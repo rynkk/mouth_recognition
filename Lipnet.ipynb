{
 "cells": [
  {
   "cell_type": "code",
   "execution_count": 1,
   "metadata": {},
   "outputs": [
    {
     "name": "stderr",
     "output_type": "stream",
     "text": [
      "Using TensorFlow backend.\n"
     ]
    },
    {
     "name": "stdout",
     "output_type": "stream",
     "text": [
      "[PhysicalDevice(name='/physical_device:GPU:0', device_type='GPU')]\n"
     ]
    }
   ],
   "source": [
    "from keras.layers import Input, ZeroPadding3D, Conv3D, BatchNormalization, Activation, SpatialDropout3D, MaxPooling3D, \\\n",
    "    TimeDistributed, Flatten, Bidirectional, GRU, Dense, AveragePooling3D\n",
    "from keras import Model\n",
    "import tensorflow as tf\n",
    "\n",
    "gpus = tf.config.experimental.list_physical_devices('GPU')\n",
    "print(gpus)\n",
    "if gpus:\n",
    "    try:\n",
    "        for gpu in gpus:\n",
    "            tf.config.experimental.set_memory_growth(gpu, True)\n",
    "    except RuntimeError as e:\n",
    "        print(e)\n",
    "        \n",
    "import keras\n",
    "import numpy as np\n",
    "from data_gen_stanford import DataGenerator"
   ]
  },
  {
   "cell_type": "code",
   "execution_count": 5,
   "metadata": {},
   "outputs": [],
   "source": [
    "def get_Lipnet(n_classes=51, summary=False):\n",
    "    input_layer = Input(name='the_input', shape=(75, 50, 100, 3), dtype='float32')\n",
    "    x = Conv3D(32, (3, 5, 5), strides=(1, 2, 2), padding=\"same\", kernel_initializer='he_normal', name='conv1')(input_layer)\n",
    "    x = BatchNormalization(name='batc1')(x)\n",
    "    x = Activation('relu', name='actv1')(x)\n",
    "    x = SpatialDropout3D(0.5)(x)\n",
    "    x = MaxPooling3D(pool_size=(1, 2, 2), strides=(1, 2, 2), name='max1')(x)\n",
    "\n",
    "    x = Conv3D(64, (3, 5, 5), strides=(1, 1, 1), padding=\"same\", kernel_initializer='he_normal', name='conv2')(x)\n",
    "    x = BatchNormalization(name='batc2')(x)\n",
    "    x = Activation('relu', name='actv2')(x)\n",
    "    x = SpatialDropout3D(0.5)(x)\n",
    "    x = MaxPooling3D(pool_size=(1, 2, 2), strides=(1, 2, 2), name='max2')(x)\n",
    "\n",
    "    x = Conv3D(96, (3, 3, 3), strides=(1, 1, 1), padding=\"same\", kernel_initializer='he_normal', name='conv3')(x)\n",
    "    x = BatchNormalization(name='batc3')(x)\n",
    "    x = Activation('relu', name='actv3')(x)\n",
    "    x = SpatialDropout3D(0.5)(x)\n",
    "    x = MaxPooling3D(pool_size=(1, 2, 2), strides=(1, 2, 2), name='max3')(x)\n",
    "    \n",
    "    x = TimeDistributed(Flatten())(x)\n",
    "\n",
    "    x = Bidirectional(GRU(128, return_sequences=True, kernel_initializer='Orthogonal', name='gru1'),\n",
    "                            merge_mode='concat')(x)\n",
    "    x = Bidirectional(GRU(128, return_sequences=True, kernel_initializer='Orthogonal', name='gru2'),\n",
    "                            merge_mode='concat')(x)\n",
    "    x = Flatten()(x)\n",
    "    outputs = Dense(n_classes, kernel_initializer='he_normal', name='dense1', activation=\"sigmoid\")(x)\n",
    "\n",
    "    model = Model(inputs=input_layer, outputs=outputs)\n",
    "    if summary:\n",
    "        keras.utils.plot_model(model, 'network.png', show_shapes=True)\n",
    "        print(model.summary())\n",
    "\n",
    "    model.compile(optimizer=keras.optimizers.Adam(beta_1=0.9, beta_2=0.999, lr=1e-4),\n",
    "                  loss='binary_crossentropy',\n",
    "                  metrics=['accuracy', 'mse', tf.keras.metrics.AUC()])\n",
    "    return model"
   ]
  },
  {
   "cell_type": "code",
   "execution_count": null,
   "metadata": {
    "scrolled": true
   },
   "outputs": [],
   "source": [
    "if __name__ == \"__main__\":\n",
    "    model = get_Lipnet(n_classes=51, summary=False)\n",
    "    datagen = DataGenerator(batch_size=10, val_split=0.99)\n",
    "    model.fit_generator(generator=datagen, epochs=1, shuffle=True, validation_data=datagen.get_valid_data())\n",
    "        "
   ]
  },
  {
   "cell_type": "code",
   "execution_count": null,
   "metadata": {},
   "outputs": [],
   "source": []
  }
 ],
 "metadata": {
  "kernelspec": {
   "display_name": "Python 3",
   "language": "python",
   "name": "python3"
  },
  "language_info": {
   "codemirror_mode": {
    "name": "ipython",
    "version": 3
   },
   "file_extension": ".py",
   "mimetype": "text/x-python",
   "name": "python",
   "nbconvert_exporter": "python",
   "pygments_lexer": "ipython3",
   "version": "3.7.5"
  }
 },
 "nbformat": 4,
 "nbformat_minor": 2
}
